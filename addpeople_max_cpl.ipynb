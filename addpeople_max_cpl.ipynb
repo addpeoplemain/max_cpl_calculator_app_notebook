{
 "cells": [
  {
   "attachments": {},
   "cell_type": "markdown",
   "metadata": {},
   "source": [
    "<h1>Add People Max CPL Calculator - Handover Report</h1>\n",
    "\n",
    "AddPeople are aiming to establish how a Max CPL Web application can be used to improve client experience and time effciency for employees.\n",
    "\n",
    "This notebook documents the build process and features the following sections:\n",
    "\n",
    "<ol>\n",
    "  <li>Project Scope</li>\n",
    "  <li>Method Development</li>\n",
    "  <li>Navigating The Build</li>\n",
    "</ol>"
   ]
  },
  {
   "attachments": {},
   "cell_type": "markdown",
   "metadata": {},
   "source": [
    "<h1>1. Project Scope</h1>\n",
    "\n",
    "The aim is to produce tool that can be used to calculate max cost per lead, in the form of an interactive dashboard.\n",
    "\n",
    "Initial investigation suggested a simple solution of using python and streamlit for functionality and data visualisation.\n",
    "\n",
    "<h2>Deliverables</h2>\n",
    "<ul>\n",
    "    <li>Repository containing interactive notebooks that documents methodology(this document) .</li>\n",
    "    <li>Repository containing an interactive dashboard, which demonstrates the application.</li>\n",
    "    <li>Handover document describing the assistance and highlighting potential next steps (this document).</li>\n",
    "</ul>\n",
    "\n",
    "<h3>Potential positive impacts</h3>\n",
    "<ul>\n",
    "<li>Improved Client Experience</li>\n",
    "<li>Increase in time efficiency</li>\n",
    "</ul>\n",
    "<h3>Potential negative impacts</h3>\n",
    "<ul>\n",
    "    <li>Over reliance on system.</li>\n",
    "</ul>\n",
    "<h3>Risk category</h3>\n",
    "The Max CPL Calculator would be classified as limited risk in-line with the European Commision AI Regulation proposal. "
   ]
  },
  {
   "attachments": {},
   "cell_type": "markdown",
   "metadata": {},
   "source": [
    "## 2. Method Development"
   ]
  },
  {
   "attachments": {},
   "cell_type": "markdown",
   "metadata": {},
   "source": [
    "This section of the report documents the  methods used for calculation and the styling choices used in the final product."
   ]
  },
  {
   "attachments": {},
   "cell_type": "markdown",
   "metadata": {},
   "source": [
    "### Set-up\n",
    "\n",
    "Import packages for calculations and visualisation of data in streamlit."
   ]
  },
  {
   "cell_type": "code",
   "execution_count": null,
   "metadata": {
    "vscode": {
     "languageId": "plaintext"
    }
   },
   "outputs": [],
   "source": [
    "import pandas as pd\n",
    "import streamlit as st\n",
    "import matplotlib.pyplot as plt\n",
    "import numpy as np\n",
    "import locale\n",
    "import math\n",
    "from streamlit_extras.app_logo import add_logo\n",
    "from streamlit_extras.stylable_container import stylable_container \n",
    "locale.setlocale(locale.LC_ALL, 'C')\n",
    "\n"
   ]
  },
  {
   "attachments": {},
   "cell_type": "markdown",
   "metadata": {},
   "source": [
    "## Method \n",
    "\n",
    "### 1. Setting up the responsive page view of web application. "
   ]
  },
  {
   "cell_type": "markdown",
   "metadata": {},
   "source": [
    "\n",
    " st.set_page_config(initial_sidebar_state=\"auto\",page_title=None, page_icon=None, layout=\"centered\",  menu_items=None)\n",
    "\n",
    "    st.markdown(\"\"\"\n",
    "<style>\n",
    "    [data-testid=stSidebar] {\n",
    "        background-color:#F7F5F2 ;\n",
    "        color: #173340;\n",
    "        \n",
    "    }\n",
    "  \n",
    "\n",
    "</style>\n",
    "\"\"\", unsafe_allow_html=True)\n",
    "\n",
    "    with st.sidebar:\n",
    "        st.image(\"logo.png\")\n",
    "        st.write(\"\"\"\n",
    "                 \n",
    "         **Max CPL Calculator Application**\n",
    "         Max CPL Calculator APP version 2.0\n",
    "            \"\"\"\n",
    "         )\n",
    "    with stylable_container(\n",
    "        key=\"container_max_cpl_title\",\n",
    "        css_styles=\"\"\"\n",
    "            {\n",
    "                margin-left: 18%;\n",
    "                margin-right: 50%;\n",
    "                width: 50%;\n",
    "            }\n",
    "            \"\"\",\n",
    "    ):\n",
    "        st.title(\" Max CPL Calculator App\")\n",
    "    \n",
    "    with stylable_container(\n",
    "        key=\"container_client_lead_deal\",\n",
    "        css_styles=\"\"\"\n",
    "            {\n",
    "                margin: auto;\n",
    "                width: 50%;\n",
    "            }\n",
    "            \"\"\",\n",
    "    ):\n",
    "        st.subheader(\"Client Lead To Deal Calculator\")"
   ]
  },
  {
   "cell_type": "markdown",
   "metadata": {},
   "source": [
    "As the appliactions css is not directly editable when hosting an application on streamlit Styleable containers have been used to add custom css, this was mainly used for centering elements.Style-able containers use markdown language to implement css and html."
   ]
  },
  {
   "attachments": {},
   "cell_type": "markdown",
   "metadata": {},
   "source": [
    "### 2. Making a dataframe containing the data for Leads to Deals(%)"
   ]
  },
  {
   "cell_type": "markdown",
   "metadata": {},
   "source": [
    "    total_leads = 123\n",
    "    total_deals = 321\n",
    "  \n",
    "    lead_to_deal_data = [['Total Leads', total_leads], ['Total Deals', total_deals]]\n",
    "    lead_to_deal_data_df = pd.DataFrame(lead_to_deal_data,columns=['type','num'])    \n",
    "    lead_to_deal_data_edited_df = st.data_editor(lead_to_deal_data_df,column_config={\n",
    "        \"type\": st.column_config.Column(\n",
    "            disabled=True\n",
    "        )\n",
    "    },use_container_width=True,hide_index =True)\n",
    "\n",
    "    leads_to_deals = lead_to_deal_data_edited_df['num'].iloc[1]/lead_to_deal_data_edited_df['num'].iloc[0]\n",
    "    st.info(f\"Leads to Deals(%) =  {round(leads_to_deals*100,2)}%\")"
   ]
  },
  {
   "attachments": {},
   "cell_type": "markdown",
   "metadata": {},
   "source": [
    "total_leads & total_deals variables have been intialised with standard numbers.This assigns the variables as numeric type int. These are added to a nested list(lead_to_deal_data) which is then used to create a dataframe(lead_to_deal_data_df), in order to keep the code succint I have made use of streamlits data_editor function. This allows the data frame to be an editable visualisation on the web applications main page with minimal code. The editing of the type of data column has been disabled this reduces the chance of user error when using the app. Users should only be able to edit columns that affect calculation directly. leads_to_deals variable is the calculation total_deals/total_leads. The leads_to_deals variable is displayed as a percentage rounded to 2dp."
   ]
  },
  {
   "cell_type": "markdown",
   "metadata": {},
   "source": [
    "### 3. Making a dataframe containing the data for Gross Profit  & Gross Profit Margin(%)"
   ]
  },
  {
   "cell_type": "markdown",
   "metadata": {},
   "source": [
    "    aov = 123.25\n",
    "    average_cost = 321.25\n",
    "    client_gross_profit_margin_data = [['AOV', aov], ['Average Cost', average_cost]]\n",
    "    client_gross_profit_margin_data_df = pd.DataFrame(client_gross_profit_margin_data,columns=['type','num'])\n",
    "    client_gross_profit_margin_data_edited_df = st.data_editor(client_gross_profit_margin_data_df,\n",
    "    column_config={\n",
    "        \"type\": st.column_config.Column(\n",
    "            disabled=True\n",
    "        )\n",
    "    },use_container_width=True,hide_index =True)\n",
    "    gross_profit = client_gross_profit_margin_data_edited_df['num'].iloc[0]-client_gross_profit_margin_data_edited_df['num'].iloc[1]\n",
    "    gross_profit_margin = gross_profit / client_gross_profit_margin_data_edited_df['num'].iloc[0]\n",
    "    st.info(f\"Gross Profit =  {gross_profit}\")\n",
    "    st.info(f\"Gross Profit Margin(%) =  {round(gross_profit_margin*100,2)}%\")"
   ]
  },
  {
   "cell_type": "markdown",
   "metadata": {},
   "source": [
    "aov & average_cost variables have been intialised with decimal numbers.This assigns the variables as numeric type float. These are added to a nested list(client_gross_profit_margin_data) which is then used to create a dataframe(client_gross_profit_margin_data_df), in order to keep the code succint I have made use of streamlits data_editor function. This allows the data frame to be an editable visualisation on the web applications main page with minimal code. The editing of the type of data column has been disabled this reduces the chance of user error when using the app. Users should only be able to edit columns that affect calculation directly. gross_profit variable is the calculation aov - average Cost. The gross_profit_margin variable is gross_profit/aov. Gross Profit Margin is displayed on the page as a percentage with the via calculating (gross_profit_margin*100) rounded to 2dp."
   ]
  },
  {
   "cell_type": "markdown",
   "metadata": {},
   "source": [
    "### 4. Making a dataframe containing the data for Break Even Point "
   ]
  },
  {
   "cell_type": "markdown",
   "metadata": {},
   "source": [
    "    campaign_monthly_media_spend = 123.15\n",
    "    management_fee = 321.15\n",
    "    break_even_calculation_data = [['Campaign Monthly Media Spend', campaign_monthly_media_spend], ['Management Fee', management_fee]]\n",
    "    break_even_calculation_data_df = pd.DataFrame(break_even_calculation_data,columns=['type','num'])\n",
    "    break_even_calculation_data_edited_df = st.data_editor(break_even_calculation_data_df,column_config={\n",
    "        \"type\": st.column_config.Column(\n",
    "            disabled=True\n",
    "        )\n",
    "    },use_container_width=True,hide_index =True)\n",
    "\n",
    "    break_even_point = round((break_even_calculation_data_edited_df['num'].iloc[0]+break_even_calculation_data_edited_df['num'].iloc[1])/(client_gross_profit_margin_data_edited_df['num'].iloc[0]*gross_profit_margin),2)\n",
    "    break_even_point_round = round(math.ceil((break_even_point)),2)\n",
    "    st.info(f\"Break Even Point (BEP) =  {break_even_point}\")\n",
    "    st.info(f\"Break Even Point (BEP) - Rounded up =  {break_even_point_round}\")"
   ]
  },
  {
   "cell_type": "markdown",
   "metadata": {},
   "source": [
    "campaign_monthly_media_spend & management_fee variables have been intialised with decimal numbers.This assigns the variables as numeric type float. These are added to a nested list(break_even_calculation_data) which is then used to create a dataframe(break_even_calculation_data_df), in order to keep the code succint I have made use of streamlits data_editor function. This allows the data frame to be an editable visualisation(break_even_calculation_data_edited_df) on the web applications main page with minimal code. The editing of the type of data column has been disabled this reduces the chance of user error when using the app. Users should only be able to edit columns that affect calculation directly. break_even_point variable is the calculation (campaign_monthly_media_spend+management_fee)/(aov*gross_profit_margin). break_even_point_round is break_even_point rounded to the nearest whole number."
   ]
  },
  {
   "cell_type": "markdown",
   "metadata": {},
   "source": [
    "### 5. Making a dataframe containing the data for Max Cost Per Lead"
   ]
  },
  {
   "cell_type": "markdown",
   "metadata": {},
   "source": [
    "    total_monthly_cost_of_campaign = break_even_calculation_data_edited_df['num'].iloc[0] + break_even_calculation_data_edited_df['num'].iloc[1]\n",
    "    break_even_number_of_leads = break_even_point_round/leads_to_deals\n",
    "    maximum_cpa = total_monthly_cost_of_campaign/ break_even_point_round\n",
    "    st.info(f\"Total Monthly Cost of Campaign = {round(total_monthly_cost_of_campaign,2)}\")\n",
    "    st.info(f\"Break even Number of Leads = {round(break_even_number_of_leads,2)}\")\n",
    "    st.info(f\"Maximum CPA = {round(maximum_cpa,2)}\")\n",
    "    st.divider()\n",
    "    max_cost_per_lead = total_monthly_cost_of_campaign/break_even_number_of_leads\n"
   ]
  },
  {
   "cell_type": "markdown",
   "metadata": {},
   "source": [
    "The total_monthly_cost_of_campaign variable has been assigned the value of (campaign_monthly_media_spend + management_fee). break_even_number_of_leads has been assigned the value of (break_even_point_round/leads_to_deals).maximum_cpa has been assigned the value total_monthly_cost_of_campaign/ break_even_point_round. max_cost_per_lead has been calculated as total_monthly_cost_of_campaign/break_even_number_of_leads. "
   ]
  },
  {
   "cell_type": "markdown",
   "metadata": {},
   "source": [
    "# 3. Navigating The Build"
   ]
  },
  {
   "cell_type": "markdown",
   "metadata": {},
   "source": [
    "Navigating the application has been designed with the focus on simplifing the user journey. Users type in the num column, calculations are based off of this."
   ]
  },
  {
   "attachments": {},
   "cell_type": "markdown",
   "metadata": {},
   "source": [
    "<img src=\"CPL Calculator.PNG\" width=900 height=500 />"
   ]
  },
  {
   "cell_type": "markdown",
   "metadata": {},
   "source": [
    "*Figure.1 - Max Cpl dashboard.*"
   ]
  },
  {
   "cell_type": "markdown",
   "metadata": {},
   "source": [
    "<img src=\"CPL Calculator 2.PNG\" width=900 height=500 />"
   ]
  },
  {
   "cell_type": "markdown",
   "metadata": {},
   "source": [
    "*Figure.2 - User interacting with input section.*"
   ]
  },
  {
   "cell_type": "markdown",
   "metadata": {},
   "source": [
    "<img src=\"CPL Calculator 3.PNG\" width=900 height=500 />"
   ]
  },
  {
   "cell_type": "markdown",
   "metadata": {},
   "source": [
    "*Figure.3 - Calculation change after user interaction.*"
   ]
  }
 ],
 "metadata": {
  "kernelspec": {
   "display_name": "Python 3",
   "language": "python",
   "name": "python3"
  },
  "language_info": {
   "codemirror_mode": {
    "name": "ipython",
    "version": 3
   },
   "file_extension": ".py",
   "mimetype": "text/x-python",
   "name": "python",
   "nbconvert_exporter": "python",
   "pygments_lexer": "ipython3",
   "version": "3.10.5"
  },
  "orig_nbformat": 4,
  "vscode": {
   "interpreter": {
    "hash": "369f2c481f4da34e4445cda3fffd2e751bd1c4d706f27375911949ba6bb62e1c"
   }
  }
 },
 "nbformat": 4,
 "nbformat_minor": 2
}
